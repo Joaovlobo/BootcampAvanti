{
 "cells": [
  {
   "cell_type": "markdown",
   "metadata": {},
   "source": [
    "1. Escreva uma função que receba uma lista de números e retorne outra lista com os números primos presentes."
   ]
  },
  {
   "cell_type": "code",
   "execution_count": 39,
   "metadata": {},
   "outputs": [
    {
     "name": "stdout",
     "output_type": "stream",
     "text": [
      "[2, 3, 5, 7, 23, 73]\n"
     ]
    }
   ],
   "source": [
    "def numerosPrimos(numeros):\n",
    "    primos = []\n",
    "    for num in numeros:\n",
    "        if num > 1:\n",
    "            for i in range(2,num):\n",
    "                if num % i == 0:\n",
    "                    break\n",
    "            else:\n",
    "                primos.append(num)\n",
    "    return primos\n",
    "\n",
    "numeros = [1,2,3,4,5,6,7,8,9,10,23,73]\n",
    "print(numerosPrimos(numeros))"
   ]
  },
  {
   "cell_type": "markdown",
   "metadata": {},
   "source": [
    "2. Escreva uma função que receba duas listas e retorne outra lista com os elementos que estão presentes em apenas uma das listas."
   ]
  },
  {
   "cell_type": "code",
   "execution_count": 9,
   "metadata": {},
   "outputs": [
    {
     "name": "stdout",
     "output_type": "stream",
     "text": [
      "[20, 11, 12, 13]\n"
     ]
    }
   ],
   "source": [
    "def elementos_unicos(lista1, lista2):\n",
    "    unicos = []\n",
    "    for elemento in lista1:\n",
    "        if elemento not in lista2:\n",
    "            unicos.append(elemento)\n",
    "    for elemento in lista2:\n",
    "        if elemento not in lista1:\n",
    "            unicos.append(elemento)\n",
    "    return unicos \n",
    "\n",
    "lista1 = [1,2,3,4,5,6,7,8,9,10,20]\n",
    "lista2 = [1,2,3,4,5,6,7,8,9,10,11,12,13]\n",
    "print(elementos_unicos(lista1, lista2))"
   ]
  },
  {
   "cell_type": "markdown",
   "metadata": {},
   "source": [
    "3. Dada uma lista de números inteiros, escreva uma função para encontrar o segundo maior valor na lista."
   ]
  },
  {
   "cell_type": "code",
   "execution_count": 10,
   "metadata": {},
   "outputs": [
    {
     "name": "stdout",
     "output_type": "stream",
     "text": [
      "10\n"
     ]
    }
   ],
   "source": [
    "def segundoMaior(lista):\n",
    "    lista.sort()\n",
    "    return lista[-2]\n",
    "\n",
    "lista = [1,2,3,4,5,6,7,8,9,10,20]\n",
    "print(segundoMaior(lista))"
   ]
  },
  {
   "cell_type": "markdown",
   "metadata": {},
   "source": [
    "4. Crie uma função que receba uma lista de tuplas, cada uma contendo o nome e a idade de uma pessoa, e retorne a lista ordenada pelo nome das pessoas em ordem alfabética."
   ]
  },
  {
   "cell_type": "code",
   "execution_count": 41,
   "metadata": {},
   "outputs": [
    {
     "name": "stdout",
     "output_type": "stream",
     "text": [
      "[('Ana', 22), ('Carlos', 30), ('Jorge', 25), ('Mateus', 23)]\n"
     ]
    }
   ],
   "source": [
    "def listaOrdenadaPorNome(lista):\n",
    "    # fazendo o sort pelo primeiro elemento da tupla\n",
    "    return sorted(lista, key=lambda pessoa: pessoa[0])\n",
    "\n",
    "\n",
    "pessoas = [(\"Jorge\", 25 ), (\"Carlos\", 30), (\"Mateus\", 23) , (\"Ana\", 22)]\n",
    "\n",
    "print(listaOrdenadaPorNome(pessoas))\n"
   ]
  },
  {
   "cell_type": "markdown",
   "metadata": {},
   "source": [
    "5. Dada uma lista contendo números inteiros, como você encontraria o maior número e o menor número dessa lista em uma única passagem?"
   ]
  },
  {
   "cell_type": "code",
   "execution_count": 36,
   "metadata": {},
   "outputs": [
    {
     "name": "stdout",
     "output_type": "stream",
     "text": [
      "Numero minimo: 1 , Numero Maximo: 5 \n"
     ]
    }
   ],
   "source": [
    "lista = [1,2,3,4,5]\n",
    "\n",
    "print(f\"Numero minimo: {min(lista)} , Numero Maximo: {max(lista)} \")\n"
   ]
  },
  {
   "cell_type": "markdown",
   "metadata": {},
   "source": [
    "6. Utilizando pandas, como realizar a leitura de um arquivo CSV em um DataFrame e exibir as primeiras linhas?"
   ]
  },
  {
   "cell_type": "code",
   "execution_count": 20,
   "metadata": {},
   "outputs": [
    {
     "data": {
      "text/html": [
       "<div>\n",
       "<style scoped>\n",
       "    .dataframe tbody tr th:only-of-type {\n",
       "        vertical-align: middle;\n",
       "    }\n",
       "\n",
       "    .dataframe tbody tr th {\n",
       "        vertical-align: top;\n",
       "    }\n",
       "\n",
       "    .dataframe thead th {\n",
       "        text-align: right;\n",
       "    }\n",
       "</style>\n",
       "<table border=\"1\" class=\"dataframe\">\n",
       "  <thead>\n",
       "    <tr style=\"text-align: right;\">\n",
       "      <th></th>\n",
       "      <th>TV</th>\n",
       "      <th>Radio</th>\n",
       "      <th>Jornal</th>\n",
       "      <th>Vendas</th>\n",
       "    </tr>\n",
       "  </thead>\n",
       "  <tbody>\n",
       "    <tr>\n",
       "      <th>0</th>\n",
       "      <td>230.1</td>\n",
       "      <td>37.8</td>\n",
       "      <td>69.2</td>\n",
       "      <td>22.1</td>\n",
       "    </tr>\n",
       "    <tr>\n",
       "      <th>1</th>\n",
       "      <td>44.5</td>\n",
       "      <td>39.3</td>\n",
       "      <td>45.1</td>\n",
       "      <td>10.4</td>\n",
       "    </tr>\n",
       "    <tr>\n",
       "      <th>2</th>\n",
       "      <td>17.2</td>\n",
       "      <td>45.9</td>\n",
       "      <td>69.3</td>\n",
       "      <td>12.0</td>\n",
       "    </tr>\n",
       "    <tr>\n",
       "      <th>3</th>\n",
       "      <td>151.5</td>\n",
       "      <td>41.3</td>\n",
       "      <td>58.5</td>\n",
       "      <td>16.5</td>\n",
       "    </tr>\n",
       "    <tr>\n",
       "      <th>4</th>\n",
       "      <td>180.8</td>\n",
       "      <td>10.8</td>\n",
       "      <td>58.4</td>\n",
       "      <td>17.9</td>\n",
       "    </tr>\n",
       "  </tbody>\n",
       "</table>\n",
       "</div>"
      ],
      "text/plain": [
       "      TV  Radio  Jornal  Vendas\n",
       "0  230.1   37.8    69.2    22.1\n",
       "1   44.5   39.3    45.1    10.4\n",
       "2   17.2   45.9    69.3    12.0\n",
       "3  151.5   41.3    58.5    16.5\n",
       "4  180.8   10.8    58.4    17.9"
      ]
     },
     "execution_count": 20,
     "metadata": {},
     "output_type": "execute_result"
    }
   ],
   "source": [
    "import pandas as pd\n",
    "df = pd.read_csv(\"advertising.csv\")\n",
    "df.head()"
   ]
  },
  {
   "cell_type": "markdown",
   "metadata": {},
   "source": [
    "7. Utilizando pandas, como selecionar uma coluna específica e filtrar linhas em um “DataFrame” com base em uma condição?"
   ]
  },
  {
   "cell_type": "code",
   "execution_count": 31,
   "metadata": {},
   "outputs": [
    {
     "data": {
      "text/html": [
       "<div>\n",
       "<style scoped>\n",
       "    .dataframe tbody tr th:only-of-type {\n",
       "        vertical-align: middle;\n",
       "    }\n",
       "\n",
       "    .dataframe tbody tr th {\n",
       "        vertical-align: top;\n",
       "    }\n",
       "\n",
       "    .dataframe thead th {\n",
       "        text-align: right;\n",
       "    }\n",
       "</style>\n",
       "<table border=\"1\" class=\"dataframe\">\n",
       "  <thead>\n",
       "    <tr style=\"text-align: right;\">\n",
       "      <th></th>\n",
       "      <th>TV</th>\n",
       "      <th>Radio</th>\n",
       "      <th>Jornal</th>\n",
       "      <th>Vendas</th>\n",
       "    </tr>\n",
       "  </thead>\n",
       "  <tbody>\n",
       "    <tr>\n",
       "      <th>0</th>\n",
       "      <td>230.1</td>\n",
       "      <td>37.8</td>\n",
       "      <td>69.2</td>\n",
       "      <td>22.1</td>\n",
       "    </tr>\n",
       "    <tr>\n",
       "      <th>11</th>\n",
       "      <td>214.7</td>\n",
       "      <td>24.0</td>\n",
       "      <td>4.0</td>\n",
       "      <td>17.4</td>\n",
       "    </tr>\n",
       "    <tr>\n",
       "      <th>14</th>\n",
       "      <td>204.1</td>\n",
       "      <td>32.9</td>\n",
       "      <td>46.0</td>\n",
       "      <td>19.0</td>\n",
       "    </tr>\n",
       "    <tr>\n",
       "      <th>17</th>\n",
       "      <td>281.4</td>\n",
       "      <td>39.6</td>\n",
       "      <td>55.8</td>\n",
       "      <td>24.4</td>\n",
       "    </tr>\n",
       "    <tr>\n",
       "      <th>20</th>\n",
       "      <td>218.4</td>\n",
       "      <td>27.7</td>\n",
       "      <td>53.4</td>\n",
       "      <td>18.0</td>\n",
       "    </tr>\n",
       "  </tbody>\n",
       "</table>\n",
       "</div>"
      ],
      "text/plain": [
       "       TV  Radio  Jornal  Vendas\n",
       "0   230.1   37.8    69.2    22.1\n",
       "11  214.7   24.0     4.0    17.4\n",
       "14  204.1   32.9    46.0    19.0\n",
       "17  281.4   39.6    55.8    24.4\n",
       "20  218.4   27.7    53.4    18.0"
      ]
     },
     "execution_count": 31,
     "metadata": {},
     "output_type": "execute_result"
    }
   ],
   "source": [
    "#selecionando apenas uma coluna\n",
    "df['TV']\n",
    "\n",
    "#filtrando apenas as linhas que tem tv maior que 200\n",
    "df_filtrado = df[df['TV'] > 200]\n",
    "df_filtrado.head()"
   ]
  },
  {
   "cell_type": "markdown",
   "metadata": {},
   "source": [
    "8. Utilizando pandas, como lidar com valores ausentes (NaN) em um DataFrame?"
   ]
  },
  {
   "cell_type": "code",
   "execution_count": 23,
   "metadata": {},
   "outputs": [
    {
     "name": "stdout",
     "output_type": "stream",
     "text": [
      "TV        1\n",
      "Radio     0\n",
      "Jornal    1\n",
      "Vendas    3\n",
      "dtype: int64\n",
      "TV        0\n",
      "Radio     0\n",
      "Jornal    0\n",
      "Vendas    0\n",
      "dtype: int64\n"
     ]
    }
   ],
   "source": [
    "#utilizando o comando isna para verificar se há valores nulos\n",
    "\n",
    "valores_vazios = df.isna().sum()\n",
    "print(valores_vazios)\n",
    "\n",
    "#verifica-se que existem valores vazios nas colunas TV, jornal, vendas\n",
    "\n",
    "#podemos retirar esses elementos vazios \n",
    "\n",
    "df_sem_na = df.dropna()\n",
    "\n",
    "print(df_sem_na.isna().sum())\n",
    "\n",
    "#ou podemos completar os valores vazios com a media dos valores da coluna, bem como mediana ou moda ou...\n",
    "\n",
    "media_tv = df[\"TV\"].mean()\n",
    "media_jornal = df[\"Jornal\"].mean()\n",
    "media_vendas = df[\"Vendas\"].mean()\n",
    "\n",
    "df_Completado = df[\"TV\"].fillna(media_tv, inplace=True)\n",
    "df_Completado = df[\"Jornal\"].fillna(media_jornal, inplace=True)\n",
    "# df_Completado = df[\"Vendas\"].fillna(media_vendas, inplace=True)\n"
   ]
  },
  {
   "cell_type": "markdown",
   "metadata": {},
   "source": [
    "9. Complete o código:\n",
    "\n",
    "\n",
    "import __________.pyplot as plt\n",
    "\n",
    "import numpy as ___\n",
    "\n",
    "\n",
    "fig, axs = plt.subplots(ncols=2, nrows=2, figsize=(5.5, 3.5),\n",
    "\n",
    "                        layout=\"constrained\")\n",
    "\n",
    "\n",
    "for ___ in range(2):\n",
    "\n",
    "    for ___ in range(2):\n",
    "\n",
    "        axs[row, col].annotate(f'axs[{row}, {col}]', (0.5, 0.5),\n",
    "\n",
    "                               transform=axs[row, col].transAxes,\n",
    "\n",
    "                               ha='center', va='center', ________=18,\n",
    "\n",
    "                               color='darkgrey')\n",
    "\n",
    "fig.suptitle('__.subplots()')\n",
    "\n",
    "\n"
   ]
  },
  {
   "cell_type": "code",
   "execution_count": 26,
   "metadata": {},
   "outputs": [
    {
     "data": {
      "image/png": "[encoded data removed]",
      "text/plain": [
       "<Figure size 550x350 with 4 Axes>"
      ]
     },
     "metadata": {},
     "output_type": "display_data"
    }
   ],
   "source": [
    "\n",
    "import matplotlib.pyplot as plt\n",
    "import numpy as np\n",
    "\n",
    "fig, axs = plt.subplots(ncols=2, nrows=2, figsize=(5.5, 3.5),\n",
    "                         layout=\"constrained\")\n",
    "\n",
    "for row in range(2):\n",
    "    for col in range(2):\n",
    "        axs[row, col].annotate(f'axs[{row}, {col}]', (0.5, 0.5),\n",
    "                               transform=axs[row, col].transAxes,\n",
    "                               ha='center', va='center', fontsize=18,\n",
    "                               color='darkgrey')\n",
    "\n",
    "fig.suptitle('fig.subplots()')\n",
    "\n",
    "plt.show()"
   ]
  },
  {
   "cell_type": "markdown",
   "metadata": {},
   "source": [
    "10. Complete o código:\n",
    "\n",
    "\n",
    "import numpy as np\n",
    "\n",
    "import __________ as mpl\n",
    "\n",
    "import __________.______ as plt\n",
    "\n",
    "\n",
    "x = np.________(-2 * np.pi, 2 * np.pi, 100)\n",
    "\n",
    "y = np.____(x)\n",
    "\n",
    "\n",
    "__, __ = plt.subplots()\n",
    "\n",
    "ax.____(_, _)"
   ]
  },
  {
   "cell_type": "code",
   "execution_count": 34,
   "metadata": {},
   "outputs": [
    {
     "data": {
      "image/png": "[encoded data removed]",
      "text/plain": [
       "<Figure size 640x480 with 1 Axes>"
      ]
     },
     "metadata": {},
     "output_type": "display_data"
    }
   ],
   "source": [
    "import numpy as np\n",
    "import matplotlib as mpl\n",
    "import matplotlib.pyplot as plt\n",
    "\n",
    "x = np.linspace(-2 * np.pi, 2 * np.pi, 100)\n",
    "y = np.cos(x)\n",
    "\n",
    "fig, ax = plt.subplots()\n",
    "ax.plot(x, y)\n",
    "\n",
    "plt.show()"
   ]
  }
 ],
 "metadata": {
  "kernelspec": {
   "display_name": "Python 3",
   "language": "python",
   "name": "python3"
  },
  "language_info": {
   "codemirror_mode": {
    "name": "ipython",
    "version": 3
   },
   "file_extension": ".py",
   "mimetype": "text/x-python",
   "name": "python",
   "nbconvert_exporter": "python",
   "pygments_lexer": "ipython3",
   "version": "3.11.1"
  }
 },
 "nbformat": 4,
 "nbformat_minor": 2
}
